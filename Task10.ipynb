{
 "cells": [
  {
   "cell_type": "markdown",
   "metadata": {},
   "source": [
    "Задание 1\n",
    "Скачайте с сайта https://grouplens.org/datasets/movielens/ датасет любого размера. Определите какому фильму было выставлено больше всего оценок 5.0."
   ]
  },
  {
   "cell_type": "code",
   "execution_count": 2,
   "metadata": {},
   "outputs": [],
   "source": [
    "import pandas as pd"
   ]
  },
  {
   "cell_type": "code",
   "execution_count": 5,
   "metadata": {},
   "outputs": [
    {
     "data": {
      "text/html": [
       "<div>\n",
       "<style scoped>\n",
       "    .dataframe tbody tr th:only-of-type {\n",
       "        vertical-align: middle;\n",
       "    }\n",
       "\n",
       "    .dataframe tbody tr th {\n",
       "        vertical-align: top;\n",
       "    }\n",
       "\n",
       "    .dataframe thead th {\n",
       "        text-align: right;\n",
       "    }\n",
       "</style>\n",
       "<table border=\"1\" class=\"dataframe\">\n",
       "  <thead>\n",
       "    <tr style=\"text-align: right;\">\n",
       "      <th></th>\n",
       "      <th>userId</th>\n",
       "      <th>movieId</th>\n",
       "      <th>rating</th>\n",
       "      <th>timestamp</th>\n",
       "    </tr>\n",
       "  </thead>\n",
       "  <tbody>\n",
       "    <tr>\n",
       "      <th>0</th>\n",
       "      <td>1</td>\n",
       "      <td>1</td>\n",
       "      <td>4.0</td>\n",
       "      <td>964982703</td>\n",
       "    </tr>\n",
       "    <tr>\n",
       "      <th>1</th>\n",
       "      <td>1</td>\n",
       "      <td>3</td>\n",
       "      <td>4.0</td>\n",
       "      <td>964981247</td>\n",
       "    </tr>\n",
       "    <tr>\n",
       "      <th>2</th>\n",
       "      <td>1</td>\n",
       "      <td>6</td>\n",
       "      <td>4.0</td>\n",
       "      <td>964982224</td>\n",
       "    </tr>\n",
       "    <tr>\n",
       "      <th>3</th>\n",
       "      <td>1</td>\n",
       "      <td>47</td>\n",
       "      <td>5.0</td>\n",
       "      <td>964983815</td>\n",
       "    </tr>\n",
       "    <tr>\n",
       "      <th>4</th>\n",
       "      <td>1</td>\n",
       "      <td>50</td>\n",
       "      <td>5.0</td>\n",
       "      <td>964982931</td>\n",
       "    </tr>\n",
       "  </tbody>\n",
       "</table>\n",
       "</div>"
      ],
      "text/plain": [
       "   userId  movieId  rating  timestamp\n",
       "0       1        1     4.0  964982703\n",
       "1       1        3     4.0  964981247\n",
       "2       1        6     4.0  964982224\n",
       "3       1       47     5.0  964983815\n",
       "4       1       50     5.0  964982931"
      ]
     },
     "execution_count": 5,
     "metadata": {},
     "output_type": "execute_result"
    }
   ],
   "source": [
    "ratings = pd.read_csv('ratings.csv')\n",
    "ratings.head()"
   ]
  },
  {
   "cell_type": "code",
   "execution_count": 7,
   "metadata": {},
   "outputs": [
    {
     "name": "stdout",
     "output_type": "stream",
     "text": [
      "<class 'pandas.core.frame.DataFrame'>\n",
      "RangeIndex: 100836 entries, 0 to 100835\n",
      "Data columns (total 4 columns):\n",
      " #   Column     Non-Null Count   Dtype  \n",
      "---  ------     --------------   -----  \n",
      " 0   userId     100836 non-null  int64  \n",
      " 1   movieId    100836 non-null  int64  \n",
      " 2   rating     100836 non-null  float64\n",
      " 3   timestamp  100836 non-null  int64  \n",
      "dtypes: float64(1), int64(3)\n",
      "memory usage: 3.1 MB\n"
     ]
    }
   ],
   "source": [
    "ratings.info()"
   ]
  },
  {
   "cell_type": "code",
   "execution_count": 130,
   "metadata": {},
   "outputs": [
    {
     "data": {
      "text/html": [
       "<div>\n",
       "<style scoped>\n",
       "    .dataframe tbody tr th:only-of-type {\n",
       "        vertical-align: middle;\n",
       "    }\n",
       "\n",
       "    .dataframe tbody tr th {\n",
       "        vertical-align: top;\n",
       "    }\n",
       "\n",
       "    .dataframe thead th {\n",
       "        text-align: right;\n",
       "    }\n",
       "</style>\n",
       "<table border=\"1\" class=\"dataframe\">\n",
       "  <thead>\n",
       "    <tr style=\"text-align: right;\">\n",
       "      <th></th>\n",
       "      <th>movieId</th>\n",
       "      <th>title</th>\n",
       "      <th>genres</th>\n",
       "    </tr>\n",
       "  </thead>\n",
       "  <tbody>\n",
       "    <tr>\n",
       "      <th>0</th>\n",
       "      <td>1</td>\n",
       "      <td>Toy Story (1995)</td>\n",
       "      <td>Adventure|Animation|Children|Comedy|Fantasy</td>\n",
       "    </tr>\n",
       "    <tr>\n",
       "      <th>1</th>\n",
       "      <td>2</td>\n",
       "      <td>Jumanji (1995)</td>\n",
       "      <td>Adventure|Children|Fantasy</td>\n",
       "    </tr>\n",
       "    <tr>\n",
       "      <th>2</th>\n",
       "      <td>3</td>\n",
       "      <td>Grumpier Old Men (1995)</td>\n",
       "      <td>Comedy|Romance</td>\n",
       "    </tr>\n",
       "    <tr>\n",
       "      <th>3</th>\n",
       "      <td>4</td>\n",
       "      <td>Waiting to Exhale (1995)</td>\n",
       "      <td>Comedy|Drama|Romance</td>\n",
       "    </tr>\n",
       "    <tr>\n",
       "      <th>4</th>\n",
       "      <td>5</td>\n",
       "      <td>Father of the Bride Part II (1995)</td>\n",
       "      <td>Comedy</td>\n",
       "    </tr>\n",
       "  </tbody>\n",
       "</table>\n",
       "</div>"
      ],
      "text/plain": [
       "   movieId                               title  \\\n",
       "0        1                    Toy Story (1995)   \n",
       "1        2                      Jumanji (1995)   \n",
       "2        3             Grumpier Old Men (1995)   \n",
       "3        4            Waiting to Exhale (1995)   \n",
       "4        5  Father of the Bride Part II (1995)   \n",
       "\n",
       "                                        genres  \n",
       "0  Adventure|Animation|Children|Comedy|Fantasy  \n",
       "1                   Adventure|Children|Fantasy  \n",
       "2                               Comedy|Romance  \n",
       "3                         Comedy|Drama|Romance  \n",
       "4                                       Comedy  "
      ]
     },
     "execution_count": 130,
     "metadata": {},
     "output_type": "execute_result"
    }
   ],
   "source": [
    "movies = pd.read_csv('movies.csv')\n",
    "movies.head()"
   ]
  },
  {
   "cell_type": "code",
   "execution_count": 131,
   "metadata": {},
   "outputs": [
    {
     "data": {
      "text/html": [
       "<div>\n",
       "<style scoped>\n",
       "    .dataframe tbody tr th:only-of-type {\n",
       "        vertical-align: middle;\n",
       "    }\n",
       "\n",
       "    .dataframe tbody tr th {\n",
       "        vertical-align: top;\n",
       "    }\n",
       "\n",
       "    .dataframe thead th {\n",
       "        text-align: right;\n",
       "    }\n",
       "</style>\n",
       "<table border=\"1\" class=\"dataframe\">\n",
       "  <thead>\n",
       "    <tr style=\"text-align: right;\">\n",
       "      <th></th>\n",
       "      <th>userId</th>\n",
       "      <th>movieId</th>\n",
       "      <th>rating</th>\n",
       "      <th>timestamp</th>\n",
       "      <th>title</th>\n",
       "      <th>genres</th>\n",
       "    </tr>\n",
       "  </thead>\n",
       "  <tbody>\n",
       "    <tr>\n",
       "      <th>0</th>\n",
       "      <td>1</td>\n",
       "      <td>1</td>\n",
       "      <td>4.0</td>\n",
       "      <td>964982703</td>\n",
       "      <td>Toy Story (1995)</td>\n",
       "      <td>Adventure|Animation|Children|Comedy|Fantasy</td>\n",
       "    </tr>\n",
       "    <tr>\n",
       "      <th>1</th>\n",
       "      <td>1</td>\n",
       "      <td>3</td>\n",
       "      <td>4.0</td>\n",
       "      <td>964981247</td>\n",
       "      <td>Grumpier Old Men (1995)</td>\n",
       "      <td>Comedy|Romance</td>\n",
       "    </tr>\n",
       "    <tr>\n",
       "      <th>2</th>\n",
       "      <td>1</td>\n",
       "      <td>6</td>\n",
       "      <td>4.0</td>\n",
       "      <td>964982224</td>\n",
       "      <td>Heat (1995)</td>\n",
       "      <td>Action|Crime|Thriller</td>\n",
       "    </tr>\n",
       "    <tr>\n",
       "      <th>3</th>\n",
       "      <td>1</td>\n",
       "      <td>47</td>\n",
       "      <td>5.0</td>\n",
       "      <td>964983815</td>\n",
       "      <td>Seven (a.k.a. Se7en) (1995)</td>\n",
       "      <td>Mystery|Thriller</td>\n",
       "    </tr>\n",
       "    <tr>\n",
       "      <th>4</th>\n",
       "      <td>1</td>\n",
       "      <td>50</td>\n",
       "      <td>5.0</td>\n",
       "      <td>964982931</td>\n",
       "      <td>Usual Suspects, The (1995)</td>\n",
       "      <td>Crime|Mystery|Thriller</td>\n",
       "    </tr>\n",
       "  </tbody>\n",
       "</table>\n",
       "</div>"
      ],
      "text/plain": [
       "   userId  movieId  rating  timestamp                        title  \\\n",
       "0       1        1     4.0  964982703             Toy Story (1995)   \n",
       "1       1        3     4.0  964981247      Grumpier Old Men (1995)   \n",
       "2       1        6     4.0  964982224                  Heat (1995)   \n",
       "3       1       47     5.0  964983815  Seven (a.k.a. Se7en) (1995)   \n",
       "4       1       50     5.0  964982931   Usual Suspects, The (1995)   \n",
       "\n",
       "                                        genres  \n",
       "0  Adventure|Animation|Children|Comedy|Fantasy  \n",
       "1                               Comedy|Romance  \n",
       "2                        Action|Crime|Thriller  \n",
       "3                             Mystery|Thriller  \n",
       "4                       Crime|Mystery|Thriller  "
      ]
     },
     "execution_count": 131,
     "metadata": {},
     "output_type": "execute_result"
    }
   ],
   "source": [
    "joined = ratings.merge(movies, on='movieId', how='left')\n",
    "joined.head()"
   ]
  },
  {
   "cell_type": "code",
   "execution_count": 150,
   "metadata": {},
   "outputs": [
    {
     "data": {
      "text/plain": [
       "Shawshank Redemption, The (1994)    153\n",
       "Name: title, dtype: int64"
      ]
     },
     "execution_count": 150,
     "metadata": {},
     "output_type": "execute_result"
    }
   ],
   "source": [
    "filter = joined[joined.rating == 5.0]\n",
    "filter['title'].value_counts().head(1)\n"
   ]
  },
  {
   "cell_type": "markdown",
   "metadata": {},
   "source": [
    "Задание 2\n",
    "По данным файла power.csv посчитайте суммарное потребление стран Прибалтики (Латвия, Литва и Эстония) категорий 4, 12 и 21 за период с 2005 по 2010 года. Не учитывайте в расчетах отрицательные значения quantity."
   ]
  },
  {
   "cell_type": "code",
   "execution_count": 135,
   "metadata": {},
   "outputs": [
    {
     "data": {
      "text/html": [
       "<div>\n",
       "<style scoped>\n",
       "    .dataframe tbody tr th:only-of-type {\n",
       "        vertical-align: middle;\n",
       "    }\n",
       "\n",
       "    .dataframe tbody tr th {\n",
       "        vertical-align: top;\n",
       "    }\n",
       "\n",
       "    .dataframe thead th {\n",
       "        text-align: right;\n",
       "    }\n",
       "</style>\n",
       "<table border=\"1\" class=\"dataframe\">\n",
       "  <thead>\n",
       "    <tr style=\"text-align: right;\">\n",
       "      <th></th>\n",
       "      <th>country</th>\n",
       "      <th>year</th>\n",
       "      <th>quantity</th>\n",
       "      <th>category</th>\n",
       "    </tr>\n",
       "  </thead>\n",
       "  <tbody>\n",
       "    <tr>\n",
       "      <th>0</th>\n",
       "      <td>Austria</td>\n",
       "      <td>1996</td>\n",
       "      <td>5.0</td>\n",
       "      <td>1</td>\n",
       "    </tr>\n",
       "    <tr>\n",
       "      <th>1</th>\n",
       "      <td>Austria</td>\n",
       "      <td>1995</td>\n",
       "      <td>17.0</td>\n",
       "      <td>1</td>\n",
       "    </tr>\n",
       "    <tr>\n",
       "      <th>2</th>\n",
       "      <td>Belgium</td>\n",
       "      <td>2014</td>\n",
       "      <td>0.0</td>\n",
       "      <td>1</td>\n",
       "    </tr>\n",
       "    <tr>\n",
       "      <th>3</th>\n",
       "      <td>Belgium</td>\n",
       "      <td>2013</td>\n",
       "      <td>0.0</td>\n",
       "      <td>1</td>\n",
       "    </tr>\n",
       "    <tr>\n",
       "      <th>4</th>\n",
       "      <td>Belgium</td>\n",
       "      <td>2012</td>\n",
       "      <td>35.0</td>\n",
       "      <td>1</td>\n",
       "    </tr>\n",
       "  </tbody>\n",
       "</table>\n",
       "</div>"
      ],
      "text/plain": [
       "   country  year  quantity  category\n",
       "0  Austria  1996       5.0         1\n",
       "1  Austria  1995      17.0         1\n",
       "2  Belgium  2014       0.0         1\n",
       "3  Belgium  2013       0.0         1\n",
       "4  Belgium  2012      35.0         1"
      ]
     },
     "execution_count": 135,
     "metadata": {},
     "output_type": "execute_result"
    }
   ],
   "source": [
    "power = pd.read_csv('power.csv')\n",
    "power.head()"
   ]
  },
  {
   "cell_type": "code",
   "execution_count": 134,
   "metadata": {},
   "outputs": [
    {
     "data": {
      "text/plain": [
       "array(['Austria', 'Belgium', 'Czechia', 'Finland', 'France', 'Greece',\n",
       "       'Hungary', 'Italy', 'Korea, Republic of', 'Netherlands', 'Romania',\n",
       "       'Serbia', 'Slovakia', 'Ukraine', 'United Kingdom', 'United States',\n",
       "       'Brunei Darussalam', 'Bulgaria', 'Canada', 'Chile', 'Croatia',\n",
       "       'Iran (Islamic Rep. of)', 'Jordan', 'Lithuania', 'Mexico', 'Oman',\n",
       "       'Other Asia', 'Poland', 'Portugal', 'Spain', 'Sweden',\n",
       "       'Switzerland', 'T.F.Yug.Rep. Macedonia', 'Turkey', 'Uzbekistan',\n",
       "       'Argentina', 'Colombia', 'Germany', 'Norway', 'Australia',\n",
       "       'China, Macao SAR', 'Japan', 'Denmark', 'Ireland', 'Philippines',\n",
       "       'Bangladesh', 'Eritrea', 'Ethiopia', 'Lesotho', 'Nepal', 'Niger',\n",
       "       'Pakistan', 'Serbia and Montenegro', 'Tunisia', 'Botswana',\n",
       "       'Georgia', 'Republic of Moldova', 'Peru', 'South Africa',\n",
       "       'Iceland', 'Latvia', 'Luxembourg', 'Cuba', 'Kyrgyzstan',\n",
       "       'Singapore', 'Thailand', 'United Arab Emirates', 'Uruguay',\n",
       "       'Armenia', 'Fiji', \"Korea, Dem.Ppl's.Rep.\", 'Russian Federation',\n",
       "       'Swaziland', 'Zimbabwe', 'Afghanistan', 'Antigua and Barbuda',\n",
       "       'Azerbaijan', 'Bahamas', 'Belize', 'Bolivia (Plur. State of)',\n",
       "       'Brazil', 'Burkina Faso', 'Cameroon', 'Cayman Islands',\n",
       "       'Central African Rep.', 'China', 'Comoros', 'Congo', 'Costa Rica',\n",
       "       \"Côte d'Ivoire\", 'Dem. Rep. of the Congo', 'Dominican Republic',\n",
       "       'Ecuador', 'Egypt', 'El Salvador', 'Estonia',\n",
       "       'Ethiopia, incl. Eritrea', 'Faeroe Islands', 'French Guiana',\n",
       "       'Germany, Fed. R. (former)', 'Greenland', 'Guatemala', 'Guinea',\n",
       "       'Guyana', 'Honduras', 'Indonesia', 'Israel', 'Jamaica', 'Jersey',\n",
       "       'Kazakhstan', 'Kenya', 'Kuwait', \"Lao People's Dem. Rep.\",\n",
       "       'Liberia', 'Libya', 'Malawi', 'Malaysia', 'Maldives', 'Mauritania',\n",
       "       'Mayotte', 'Morocco', 'Myanmar', 'Namibia', 'New Caledonia',\n",
       "       'New Zealand', 'Nicaragua', 'Niue', 'Panama', 'Papua New Guinea',\n",
       "       'Paraguay', 'Sao Tome and Principe', 'Senegal', 'Seychelles',\n",
       "       'Slovenia', 'Solomon Islands', 'Sri Lanka', 'Sudan (former)',\n",
       "       'Suriname', 'Togo', 'Tonga', 'Trinidad and Tobago',\n",
       "       'United Rep. of Tanzania', 'Venezuela (Bolivar. Rep.)',\n",
       "       'Yugoslavia, SFR (former)', 'Zambia', 'Algeria', 'Curaçao',\n",
       "       'Gabon', 'Malta', 'Neth. Antilles (former)', 'Sierra Leone',\n",
       "       'USSR (former)', 'Barbados', 'Benin', 'Chad', 'Djibouti',\n",
       "       'French Polynesia', 'Ghana', 'Grenada', 'Guadeloupe', 'Haiti',\n",
       "       'Iraq', 'Kiribati', 'Madagascar', 'Mali', 'Martinique',\n",
       "       'Pacific Islands (former)', 'Palau', 'St. Helena and Depend.',\n",
       "       'St. Vincent-Grenadines', 'Syrian Arab Republic', 'Uganda',\n",
       "       'Yemen', 'Yemen, Dem. (former)', 'Burundi', 'India', 'Mauritius',\n",
       "       'Mozambique', 'Nigeria', 'Réunion', 'Rwanda', 'Samoa', 'Somalia',\n",
       "       'St. Kitts-Nevis', 'Viet Nam', 'Belarus', 'Cyprus', 'Cabo Verde',\n",
       "       'Albania', 'Bahrain', 'Bosnia and Herzegovina',\n",
       "       'China, Hong Kong SAR', 'Czechoslovakia (former)', 'Angola',\n",
       "       'Bermuda', 'Bhutan', 'Equatorial Guinea', 'Lebanon',\n",
       "       'Saudi Arabia', 'St. Lucia', 'St. Pierre-Miquelon',\n",
       "       'State of Palestine', 'Tajikistan', 'German Dem. R. (former)',\n",
       "       'Anguilla', 'Mongolia', 'Montenegro', 'Cambodia', 'South Sudan',\n",
       "       'Sudan', 'Andorra', 'Aruba', 'Bonaire, St Eustatius, Saba',\n",
       "       'British Virgin Islands', 'Dominica', 'Falkland Is. (Malvinas)',\n",
       "       'Gambia', 'Gibraltar', 'Qatar', 'Sint Maarten (Dutch part)',\n",
       "       'Turkmenistan', 'Turks and Caicos Islands', 'Vanuatu',\n",
       "       'Guinea-Bissau', 'Micronesia (Fed. States of)', 'Timor-Leste',\n",
       "       'Yemen Arab Rep. (former)', 'American Samoa', 'Liechtenstein',\n",
       "       'Puerto Rico', 'Cook Islands', 'Guam', 'Guernsey', 'Isle of Man',\n",
       "       'Marshall Islands', 'Montserrat', 'Nauru',\n",
       "       'Northern Mariana Islands', 'Tuvalu', 'United States Virgin Is.',\n",
       "       'Wallis and Futuna Is.',\n",
       "       'Commonwealth of Independent States (CIS)', 'Antarctic Fisheries'],\n",
       "      dtype=object)"
      ]
     },
     "execution_count": 134,
     "metadata": {},
     "output_type": "execute_result"
    }
   ],
   "source": [
    "power['country'].unique()\n"
   ]
  },
  {
   "cell_type": "code",
   "execution_count": 137,
   "metadata": {},
   "outputs": [
    {
     "name": "stderr",
     "output_type": "stream",
     "text": [
      "<ipython-input-137-d7cadb432b72>:1: UserWarning: Boolean Series key will be reindexed to match DataFrame index.\n",
      "  Pribaltica = power[ (power['country']=='Latvia') | (power['country']=='Estonia') | (power['country']=='Lithuania') ][(power['year']>= 2005)&(power['year'] <= 2010)][(power['category']== 4) | (power['category']== 12)|(power['category']== 21)][(power['quantity'] > 0)]\n"
     ]
    },
    {
     "data": {
      "text/plain": [
       "240580.0"
      ]
     },
     "execution_count": 137,
     "metadata": {},
     "output_type": "execute_result"
    }
   ],
   "source": [
    "Pribaltica = power[ (power['country']=='Latvia') | (power['country']=='Estonia') | (power['country']=='Lithuania') ][(power['year']>= 2005)&(power['year'] <= 2010)][(power['category']== 4) | (power['category']== 12)|(power['category']== 21)][(power['quantity'] > 0)]\n",
    "Pribaltica['quantity'].sum()"
   ]
  },
  {
   "cell_type": "code",
   "execution_count": null,
   "metadata": {},
   "outputs": [],
   "source": [
    "Задание 3\n",
    "Выберите страницу любого сайта с табличными данными. Импортируйте таблицы в pandas dataframe.\n",
    "Примеры страниц (необязательно брать именно эти):\n",
    "https://fortrader.org/quotes\n",
    "https://www.finanz.ru/valyuty/v-realnom-vremen"
   ]
  },
  {
   "cell_type": "code",
   "execution_count": 139,
   "metadata": {},
   "outputs": [
    {
     "data": {
      "text/html": [
       "<div>\n",
       "<style scoped>\n",
       "    .dataframe tbody tr th:only-of-type {\n",
       "        vertical-align: middle;\n",
       "    }\n",
       "\n",
       "    .dataframe tbody tr th {\n",
       "        vertical-align: top;\n",
       "    }\n",
       "\n",
       "    .dataframe thead th {\n",
       "        text-align: right;\n",
       "    }\n",
       "</style>\n",
       "<table border=\"1\" class=\"dataframe\">\n",
       "  <thead>\n",
       "    <tr style=\"text-align: right;\">\n",
       "      <th></th>\n",
       "      <th>0</th>\n",
       "      <th>1</th>\n",
       "      <th>2</th>\n",
       "      <th>3</th>\n",
       "      <th>4</th>\n",
       "      <th>5</th>\n",
       "      <th>6</th>\n",
       "      <th>7</th>\n",
       "      <th>8</th>\n",
       "      <th>9</th>\n",
       "      <th>10</th>\n",
       "      <th>11</th>\n",
       "    </tr>\n",
       "  </thead>\n",
       "  <tbody>\n",
       "    <tr>\n",
       "      <th>0</th>\n",
       "      <td>ММВБ</td>\n",
       "      <td>2 834</td>\n",
       "      <td>-0,4%</td>\n",
       "      <td>Nasdaq</td>\n",
       "      <td>11 580</td>\n",
       "      <td>1,4%</td>\n",
       "      <td>Биткойн</td>\n",
       "      <td>11 388</td>\n",
       "      <td>0,1%</td>\n",
       "      <td>USD/RUB</td>\n",
       "      <td>768965</td>\n",
       "      <td>0,0%</td>\n",
       "    </tr>\n",
       "    <tr>\n",
       "      <th>1</th>\n",
       "      <td>РТС</td>\n",
       "      <td>1 164</td>\n",
       "      <td>0,5%</td>\n",
       "      <td>S&amp;P500</td>\n",
       "      <td>3 477</td>\n",
       "      <td>0,9%</td>\n",
       "      <td>Нефть</td>\n",
       "      <td>425</td>\n",
       "      <td>-0,7%</td>\n",
       "      <td>EUR/RUB</td>\n",
       "      <td>907840</td>\n",
       "      <td>0,0%</td>\n",
       "    </tr>\n",
       "    <tr>\n",
       "      <th>2</th>\n",
       "      <td>Dow</td>\n",
       "      <td>28 587</td>\n",
       "      <td>0,6%</td>\n",
       "      <td>FTSE100</td>\n",
       "      <td>6 017</td>\n",
       "      <td>0,7%</td>\n",
       "      <td>Золото</td>\n",
       "      <td>1 928</td>\n",
       "      <td>-0,2%</td>\n",
       "      <td>EUR/USD</td>\n",
       "      <td>11820</td>\n",
       "      <td>0,0%</td>\n",
       "    </tr>\n",
       "  </tbody>\n",
       "</table>\n",
       "</div>"
      ],
      "text/plain": [
       "     0       1      2        3       4     5        6       7      8   \\\n",
       "0  ММВБ   2 834  -0,4%   Nasdaq  11 580  1,4%  Биткойн  11 388   0,1%   \n",
       "1   РТС   1 164   0,5%   S&P500   3 477  0,9%    Нефть     425  -0,7%   \n",
       "2   Dow  28 587   0,6%  FTSE100   6 017  0,7%   Золото   1 928  -0,2%   \n",
       "\n",
       "        9       10    11  \n",
       "0  USD/RUB  768965  0,0%  \n",
       "1  EUR/RUB  907840  0,0%  \n",
       "2  EUR/USD   11820  0,0%  "
      ]
     },
     "execution_count": 139,
     "metadata": {},
     "output_type": "execute_result"
    }
   ],
   "source": [
    "pd.read_html('https://www.finanz.ru/indeksy', encoding='utf-8')[0]"
   ]
  },
  {
   "cell_type": "code",
   "execution_count": null,
   "metadata": {},
   "outputs": [],
   "source": []
  }
 ],
 "metadata": {
  "kernelspec": {
   "display_name": "Python 3",
   "language": "python",
   "name": "python3"
  },
  "language_info": {
   "codemirror_mode": {
    "name": "ipython",
    "version": 3
   },
   "file_extension": ".py",
   "mimetype": "text/x-python",
   "name": "python",
   "nbconvert_exporter": "python",
   "pygments_lexer": "ipython3",
   "version": "3.8.3"
  }
 },
 "nbformat": 4,
 "nbformat_minor": 4
}
